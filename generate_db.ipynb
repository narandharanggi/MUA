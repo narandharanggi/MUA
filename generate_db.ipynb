{
 "cells": [
  {
   "cell_type": "code",
   "execution_count": 3,
   "metadata": {},
   "outputs": [],
   "source": [
    "import pandas as pd"
   ]
  },
  {
   "cell_type": "code",
   "execution_count": 4,
   "metadata": {},
   "outputs": [],
   "source": [
    "xls = pd.ExcelFile(\"Data Normalisasi 2.xlsx\")\n",
    "df1 = pd.read_excel(xls, 'Data MUA')\n",
    "df2 = pd.read_excel(xls, 'Data Produk')\n",
    "df3 = pd.read_excel(xls, 'Data Shade')"
   ]
  },
  {
   "cell_type": "code",
   "execution_count": 6,
   "metadata": {},
   "outputs": [
    {
     "data": {
      "text/plain": [
       "[{'no': 1,\n",
       "  'produk_makeup': 'La Tulipe Cover Foundation',\n",
       "  'shade': 'natural (putih)',\n",
       "  'skin_color': 'light',\n",
       "  'skin_undertone': 'cool'},\n",
       " {'no': 2,\n",
       "  'produk_makeup': 'La Tulipe Cover Foundation',\n",
       "  'shade': 'rachel 1 (kuning pengantin)',\n",
       "  'skin_color': 'medium',\n",
       "  'skin_undertone': 'warm'},\n",
       " {'no': 3,\n",
       "  'produk_makeup': 'La Tulipe Cover Foundation',\n",
       "  'shade': 'rachel 2 (kuning langsat)',\n",
       "  'skin_color': 'medium',\n",
       "  'skin_undertone': 'neutral'},\n",
       " {'no': 4,\n",
       "  'produk_makeup': 'La Tulipe Cover Foundation',\n",
       "  'shade': 'suntan (sawo matang)',\n",
       "  'skin_color': 'medium',\n",
       "  'skin_undertone': 'warm'},\n",
       " {'no': 5,\n",
       "  'produk_makeup': 'La Tulipe Cover Foundation',\n",
       "  'shade': 'beige (coklat/gelap)',\n",
       "  'skin_color': 'dark',\n",
       "  'skin_undertone': 'cool'},\n",
       " {'no': 6,\n",
       "  'produk_makeup': 'LT Pro smooth corrector cream foundation',\n",
       "  'shade': 'yellow orange (putih kekuningan)',\n",
       "  'skin_color': 'light',\n",
       "  'skin_undertone': 'warm'},\n",
       " {'no': 7,\n",
       "  'produk_makeup': 'LT Pro smooth corrector cream foundation',\n",
       "  'shade': 'plum rose (putih)',\n",
       "  'skin_color': 'light',\n",
       "  'skin_undertone': 'cool'},\n",
       " {'no': 8,\n",
       "  'produk_makeup': 'LT Pro smooth corrector cream foundation',\n",
       "  'shade': 'natural (kuning langsat)',\n",
       "  'skin_color': 'medium',\n",
       "  'skin_undertone': 'neutral'},\n",
       " {'no': 9,\n",
       "  'produk_makeup': 'LT Pro smooth corrector cream foundation',\n",
       "  'shade': 'warm beige (sawo matang gelap)',\n",
       "  'skin_color': 'dark',\n",
       "  'skin_undertone': 'warm'},\n",
       " {'no': 10,\n",
       "  'produk_makeup': 'Make Over Ultra Cover Liquid Foundation',\n",
       "  'shade': 'ochre (medium fair)',\n",
       "  'skin_color': 'medium',\n",
       "  'skin_undertone': 'warm'},\n",
       " {'no': 11,\n",
       "  'produk_makeup': 'Make Over Ultra Cover Liquid Foundation',\n",
       "  'shade': 'velvet nude (medium yellow)',\n",
       "  'skin_color': 'medium',\n",
       "  'skin_undertone': 'warm'},\n",
       " {'no': 12,\n",
       "  'produk_makeup': 'Make Over Ultra Cover Liquid Foundation',\n",
       "  'shade': 'pearl (fair white)',\n",
       "  'skin_color': 'light',\n",
       "  'skin_undertone': 'cool'},\n",
       " {'no': 13,\n",
       "  'produk_makeup': 'Make Over Ultra Cover Liquid Foundation',\n",
       "  'shade': 'crème rose (fair white)',\n",
       "  'skin_color': 'light',\n",
       "  'skin_undertone': 'cool'},\n",
       " {'no': 14,\n",
       "  'produk_makeup': 'Maybelline Fit Me Matte + Poreless Liquid Foundation',\n",
       "  'shade': 'light beige',\n",
       "  'skin_color': 'light',\n",
       "  'skin_undertone': 'warm'},\n",
       " {'no': 15,\n",
       "  'produk_makeup': 'Maybelline Fit Me Matte + Poreless Liquid Foundation',\n",
       "  'shade': 'natural beige',\n",
       "  'skin_color': 'medium',\n",
       "  'skin_undertone': 'warm'},\n",
       " {'no': 16,\n",
       "  'produk_makeup': 'Ultima II Wonderwear Cream Make Up',\n",
       "  'shade': 'linen',\n",
       "  'skin_color': 'light',\n",
       "  'skin_undertone': 'cool'},\n",
       " {'no': 17,\n",
       "  'produk_makeup': 'Ultima II Wonderwear Cream Make Up',\n",
       "  'shade': 'natural',\n",
       "  'skin_color': 'medium',\n",
       "  'skin_undertone': 'neutral'},\n",
       " {'no': 18,\n",
       "  'produk_makeup': 'Wardah Lightening Liquid Foundation 25ml',\n",
       "  'shade': 'neutral beige',\n",
       "  'skin_color': 'light',\n",
       "  'skin_undertone': 'warm'},\n",
       " {'no': 19,\n",
       "  'produk_makeup': 'Wardah Lightening Liquid Foundation 25ml',\n",
       "  'shade': 'caramel',\n",
       "  'skin_color': 'medium',\n",
       "  'skin_undertone': 'warm'},\n",
       " {'no': 20,\n",
       "  'produk_makeup': 'Wardah Everyday Luminous Liquid Foundation',\n",
       "  'shade': 'natural white',\n",
       "  'skin_color': 'light',\n",
       "  'skin_undertone': 'warm'},\n",
       " {'no': 21,\n",
       "  'produk_makeup': 'Wardah Everyday Luminous Liquid Foundation',\n",
       "  'shade': 'natural',\n",
       "  'skin_color': 'medium',\n",
       "  'skin_undertone': 'warm'}]"
      ]
     },
     "execution_count": 6,
     "metadata": {},
     "output_type": "execute_result"
    }
   ],
   "source": [
    "df2.to_dict('records')"
   ]
  },
  {
   "cell_type": "code",
   "execution_count": null,
   "metadata": {},
   "outputs": [],
   "source": []
  }
 ],
 "metadata": {
  "kernelspec": {
   "display_name": "mua",
   "language": "python",
   "name": "python3"
  },
  "language_info": {
   "codemirror_mode": {
    "name": "ipython",
    "version": 3
   },
   "file_extension": ".py",
   "mimetype": "text/x-python",
   "name": "python",
   "nbconvert_exporter": "python",
   "pygments_lexer": "ipython3",
   "version": "3.9.18"
  },
  "orig_nbformat": 4,
  "vscode": {
   "interpreter": {
    "hash": "4a0b8f46313fd763f55f5db169c08e7ca4a6b3370209f75d5772f1269aec8130"
   }
  }
 },
 "nbformat": 4,
 "nbformat_minor": 2
}
